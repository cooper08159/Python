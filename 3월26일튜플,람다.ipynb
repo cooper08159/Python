{
  "nbformat": 4,
  "nbformat_minor": 0,
  "metadata": {
    "colab": {
      "provenance": [],
      "authorship_tag": "ABX9TyOcLM8IwWXUrbHgecWA0sHd",
      "include_colab_link": true
    },
    "kernelspec": {
      "name": "python3",
      "display_name": "Python 3"
    },
    "language_info": {
      "name": "python"
    }
  },
  "cells": [
    {
      "cell_type": "markdown",
      "metadata": {
        "id": "view-in-github",
        "colab_type": "text"
      },
      "source": [
        "<a href=\"https://colab.research.google.com/github/cooper08159/Python/blob/main/3%EC%9B%9426%EC%9D%BC%ED%8A%9C%ED%94%8C%2C%EB%9E%8C%EB%8B%A4.ipynb\" target=\"_parent\"><img src=\"https://colab.research.google.com/assets/colab-badge.svg\" alt=\"Open In Colab\"/></a>"
      ]
    },
    {
      "cell_type": "code",
      "execution_count": null,
      "metadata": {
        "id": "Tj6ptiNqTcQc"
      },
      "outputs": [],
      "source": [
        "a,b=10,20\n",
        "print(\"#변경 전 값\")\n",
        "print(\"a:\",a)\n",
        "print(\"b:\",b)\n",
        "\n",
        "#a,b값 교환\n",
        "a,b=b,a\n",
        "print(\"#변경 후 값\")\n",
        "print(\"a:\",a)\n",
        "print(\"b:\",b)\n",
        "\n"
      ]
    },
    {
      "cell_type": "code",
      "source": [
        "#함수 선언\n",
        "def test():\n",
        "    return (10,20)\n",
        "#여러 개의 값을 리턴받습니다.\n",
        "a,b=test()\n",
        "#출력합니다.\n",
        "print(\"#여러 개의 값 리턴받기\")\n",
        "print(\"a:\",a)\n",
        "print(\"b:\",b)"
      ],
      "metadata": {
        "id": "TYYmLvWQcJW1"
      },
      "execution_count": null,
      "outputs": []
    },
    {
      "cell_type": "code",
      "source": [
        "#파일 열기\n",
        "file=open(\"basic.txt\",\"w\")\n",
        "#파일에 텍스트 쓰기\n",
        "file.write(\"Hello Python Programming...!\")\n",
        "#파일을 닫기\n",
        "file.close()"
      ],
      "metadata": {
        "id": "Rh0MrVp9cURl"
      },
      "execution_count": null,
      "outputs": []
    },
    {
      "cell_type": "code",
      "source": [
        "import random\n",
        "hanguls=list(\"가나다라마바사아자차카타파하\")\n",
        "with open(\"info.txt\",\"w\") as file:\n",
        "    for i in range(1000):\n",
        "        name=random.choice(hanguls)+random.choice(hanguls)\n",
        "        weight=random.randrange(40,100)\n",
        "        height=random.randrange(140,200)\n",
        "        #텍스트쓰기\n",
        "        file.write(\"{},{},{}\\n\".format(name,weight,height))"
      ],
      "metadata": {
        "id": "EW_vgUs-e7O0"
      },
      "execution_count": null,
      "outputs": []
    },
    {
      "cell_type": "code",
      "source": [
        "#제너레이터 함수\n",
        "#함수 선언\n",
        "def test():\n",
        "    print(\"함수가 호출되었습니다.\")\n",
        "    yield \"test\"\n",
        "\n",
        "#함수 호출\n",
        "print(\"A 지점 통과\")\n",
        "test()\n",
        "\n",
        "print(\"B 지점 통과\")\n",
        "test()"
      ],
      "metadata": {
        "colab": {
          "base_uri": "https://localhost:8080/"
        },
        "id": "0U9_j-WPgcVi",
        "outputId": "73b3b3ae-7891-406f-be64-cf7c095ced89"
      },
      "execution_count": null,
      "outputs": [
        {
          "output_type": "stream",
          "name": "stdout",
          "text": [
            "A 지점 통과\n",
            "B 지점 통과\n"
          ]
        },
        {
          "output_type": "execute_result",
          "data": {
            "text/plain": [
              "<generator object test at 0x79eb11764ba0>"
            ]
          },
          "metadata": {},
          "execution_count": 21
        }
      ]
    },
    {
      "cell_type": "code",
      "source": [
        "#제너레이터 함수\n",
        "#함수 선언\n",
        "def test():\n",
        "    print(\"A 지점 통과\")\n",
        "    yield 1\n",
        "    print(\"B 지점 통과\")\n",
        "    yield 2\n",
        "    print(\"C 지점 통과\")\n",
        "    yield 3\n",
        "output=test()\n",
        "print(\"D 지점 통과\")\n",
        "a= next(output)\n",
        "print(a)\n",
        "\n",
        "print(\"E 지점 통과\")\n",
        "b= next(output)\n",
        "print(b)\n",
        "\n",
        "print(\"F 지점 통과\")\n",
        "c=next(output)\n",
        "print(c)"
      ],
      "metadata": {
        "colab": {
          "base_uri": "https://localhost:8080/"
        },
        "id": "WfM8rVMAg5C7",
        "outputId": "60a9fe8a-0ae8-4478-d838-4571b60e5ea2"
      },
      "execution_count": null,
      "outputs": [
        {
          "output_type": "stream",
          "name": "stdout",
          "text": [
            "D 지점 통과\n",
            "A 지점 통과\n",
            "1\n",
            "E 지점 통과\n",
            "B 지점 통과\n",
            "2\n",
            "F 지점 통과\n",
            "C 지점 통과\n",
            "3\n"
          ]
        }
      ]
    },
    {
      "cell_type": "code",
      "source": [
        "#test_module.py 파일\n",
        "PI=3.141592\n",
        "\n",
        "def number_input():\n",
        "    output=input(\"숫자 입력> \")\n",
        "    return float(output)\n",
        "\n",
        "def get_circumference(radius):\n",
        "    return 2*PI*radius\n",
        "\n",
        "def get_circle_area(radius):\n",
        "    return PI*radius*radius\n",
        "\n"
      ],
      "metadata": {
        "id": "lHuPX92rlEXW"
      },
      "execution_count": null,
      "outputs": []
    }
  ]
}